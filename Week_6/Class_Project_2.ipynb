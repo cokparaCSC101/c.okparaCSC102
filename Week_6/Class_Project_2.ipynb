{
 "cells": [
  {
   "cell_type": "code",
   "execution_count": 9,
   "id": "2a3a96d1",
   "metadata": {},
   "outputs": [],
   "source": [
    "import pandas as pd\n",
    "\n",
    "data = {'Segment':('Refreshment Beverages','Confectionery','Intermediate Cocoa Products'),\n",
    "        'Brand 1':('CADBURY BOURNVITA', 'TOM-TOM CLASSIC', 'COCOA POWDER'),\n",
    "        'Brand 2':('3-in-1 HOT CHOCOLATE', 'TOM-TOM STRAWBERRY', 'COCOA BUTTER'),\n",
    "        'Brand 3':('-', 'BUTTERMINT', '-'),\n",
    "       'Product 1':('Bournvita', 'Tom-Tom', 'Cocoa Powder'),\n",
    "       'Product 2':('Hot Chocolate', 'Buttermint', 'Cocoa Butter'),\n",
    "       'Product 3':('-', '-', 'Cocoa Liquor'),\n",
    "       'Product 4':('-', '-', 'Cocoa Cake')}\n",
    "\n",
    "df = pd.DataFrame(data)\n",
    "\n",
    "df.to_csv('cadbury_market.csv')"
   ]
  }
 ],
 "metadata": {
  "kernelspec": {
   "display_name": "Python 3 (ipykernel)",
   "language": "python",
   "name": "python3"
  },
  "language_info": {
   "codemirror_mode": {
    "name": "ipython",
    "version": 3
   },
   "file_extension": ".py",
   "mimetype": "text/x-python",
   "name": "python",
   "nbconvert_exporter": "python",
   "pygments_lexer": "ipython3",
   "version": "3.10.9"
  }
 },
 "nbformat": 4,
 "nbformat_minor": 5
}
