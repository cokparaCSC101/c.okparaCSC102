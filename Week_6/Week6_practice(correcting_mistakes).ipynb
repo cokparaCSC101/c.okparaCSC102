{
 "cells": [
  {
   "cell_type": "code",
   "execution_count": 3,
   "id": "1781859d",
   "metadata": {},
   "outputs": [
    {
     "data": {
      "text/html": [
       "<div>\n",
       "<style scoped>\n",
       "    .dataframe tbody tr th:only-of-type {\n",
       "        vertical-align: middle;\n",
       "    }\n",
       "\n",
       "    .dataframe tbody tr th {\n",
       "        vertical-align: top;\n",
       "    }\n",
       "\n",
       "    .dataframe thead th {\n",
       "        text-align: right;\n",
       "    }\n",
       "</style>\n",
       "<table border=\"1\" class=\"dataframe\">\n",
       "  <thead>\n",
       "    <tr style=\"text-align: right;\">\n",
       "      <th></th>\n",
       "      <th>0</th>\n",
       "    </tr>\n",
       "  </thead>\n",
       "  <tbody>\n",
       "    <tr>\n",
       "      <th>0</th>\n",
       "      <td>CSC</td>\n",
       "    </tr>\n",
       "    <tr>\n",
       "      <th>1</th>\n",
       "      <td>102</td>\n",
       "    </tr>\n",
       "    <tr>\n",
       "      <th>2</th>\n",
       "      <td>is</td>\n",
       "    </tr>\n",
       "    <tr>\n",
       "      <th>3</th>\n",
       "      <td>the</td>\n",
       "    </tr>\n",
       "    <tr>\n",
       "      <th>4</th>\n",
       "      <td>best</td>\n",
       "    </tr>\n",
       "    <tr>\n",
       "      <th>5</th>\n",
       "      <td>course</td>\n",
       "    </tr>\n",
       "    <tr>\n",
       "      <th>6</th>\n",
       "      <td>ever</td>\n",
       "    </tr>\n",
       "  </tbody>\n",
       "</table>\n",
       "</div>"
      ],
      "text/plain": [
       "        0\n",
       "0     CSC\n",
       "1     102\n",
       "2      is\n",
       "3     the\n",
       "4    best\n",
       "5  course\n",
       "6    ever"
      ]
     },
     "execution_count": 3,
     "metadata": {},
     "output_type": "execute_result"
    }
   ],
   "source": [
    "#importing pandas dictionary\n",
    "import pandas as pd\n",
    "\n",
    "lyst = ['CSC', '102', 'is', 'the', 'best', 'course', 'ever']\n",
    "\n",
    "#Calling DataFrame constructor\n",
    "df = pd.DataFrame(lyst)\n",
    "\n",
    "#Print the output\n",
    "df"
   ]
  },
  {
   "cell_type": "code",
   "execution_count": 15,
   "id": "17a06d44",
   "metadata": {},
   "outputs": [
    {
     "name": "stdout",
     "output_type": "stream",
     "text": [
      "a 10\n",
      "a 20\n",
      "a 30\n",
      "a 40\n",
      "a 50\n",
      "b 10\n",
      "b 20\n",
      "b 30\n",
      "b 40\n",
      "b 50\n",
      "c 10\n",
      "c 20\n",
      "c 30\n",
      "c 40\n",
      "c 50\n",
      "d 10\n",
      "d 20\n",
      "d 30\n",
      "d 40\n",
      "d 50\n",
      "e 10\n",
      "e 20\n",
      "e 30\n",
      "e 40\n",
      "e 50\n"
     ]
    }
   ],
   "source": [
    "#Now this is a nested loop\n",
    "grade = ['a','b','c','d','e']\n",
    "\n",
    "score = [10,20,30,40,50]\n",
    "\n",
    "for k in grade:\n",
    "    for x in score:\n",
    "        print(k,x)\n",
    "   "
   ]
  },
  {
   "cell_type": "code",
   "execution_count": 25,
   "id": "3de5b3df",
   "metadata": {},
   "outputs": [
    {
     "data": {
      "text/html": [
       "<div>\n",
       "<style scoped>\n",
       "    .dataframe tbody tr th:only-of-type {\n",
       "        vertical-align: middle;\n",
       "    }\n",
       "\n",
       "    .dataframe tbody tr th {\n",
       "        vertical-align: top;\n",
       "    }\n",
       "\n",
       "    .dataframe thead th {\n",
       "        text-align: right;\n",
       "    }\n",
       "</style>\n",
       "<table border=\"1\" class=\"dataframe\">\n",
       "  <thead>\n",
       "    <tr style=\"text-align: right;\">\n",
       "      <th></th>\n",
       "      <th>Name</th>\n",
       "      <th>Age</th>\n",
       "    </tr>\n",
       "  </thead>\n",
       "  <tbody>\n",
       "    <tr>\n",
       "      <th>0</th>\n",
       "      <td>Clinton</td>\n",
       "      <td>18</td>\n",
       "    </tr>\n",
       "    <tr>\n",
       "      <th>1</th>\n",
       "      <td>Daniel</td>\n",
       "      <td>17</td>\n",
       "    </tr>\n",
       "    <tr>\n",
       "      <th>2</th>\n",
       "      <td>Raheem</td>\n",
       "      <td>16</td>\n",
       "    </tr>\n",
       "    <tr>\n",
       "      <th>3</th>\n",
       "      <td>Arnold</td>\n",
       "      <td>15</td>\n",
       "    </tr>\n",
       "  </tbody>\n",
       "</table>\n",
       "</div>"
      ],
      "text/plain": [
       "      Name  Age\n",
       "0  Clinton   18\n",
       "1   Daniel   17\n",
       "2   Raheem   16\n",
       "3   Arnold   15"
      ]
     },
     "execution_count": 25,
     "metadata": {},
     "output_type": "execute_result"
    }
   ],
   "source": [
    "import pandas as pd\n",
    "\n",
    "data = {'Name':('Clinton','Daniel','Raheem','Arnold'), 'Age':(18,17,16,15)}\n",
    "\n",
    "df = pd.DataFrame(data)\n",
    "\n",
    "df\n",
    "    "
   ]
  },
  {
   "cell_type": "code",
   "execution_count": 37,
   "id": "9ac89de9",
   "metadata": {},
   "outputs": [
    {
     "data": {
      "text/html": [
       "<div>\n",
       "<style scoped>\n",
       "    .dataframe tbody tr th:only-of-type {\n",
       "        vertical-align: middle;\n",
       "    }\n",
       "\n",
       "    .dataframe tbody tr th {\n",
       "        vertical-align: top;\n",
       "    }\n",
       "\n",
       "    .dataframe thead th {\n",
       "        text-align: right;\n",
       "    }\n",
       "</style>\n",
       "<table border=\"1\" class=\"dataframe\">\n",
       "  <thead>\n",
       "    <tr style=\"text-align: right;\">\n",
       "      <th></th>\n",
       "      <th>Name</th>\n",
       "      <th>Qualification</th>\n",
       "    </tr>\n",
       "  </thead>\n",
       "  <tbody>\n",
       "    <tr>\n",
       "      <th>0</th>\n",
       "      <td>Clinton</td>\n",
       "      <td>Msc</td>\n",
       "    </tr>\n",
       "    <tr>\n",
       "      <th>1</th>\n",
       "      <td>Daniel</td>\n",
       "      <td>MA</td>\n",
       "    </tr>\n",
       "    <tr>\n",
       "      <th>2</th>\n",
       "      <td>Raheem</td>\n",
       "      <td>MCA</td>\n",
       "    </tr>\n",
       "    <tr>\n",
       "      <th>3</th>\n",
       "      <td>Arnold</td>\n",
       "      <td>Phd</td>\n",
       "    </tr>\n",
       "  </tbody>\n",
       "</table>\n",
       "</div>"
      ],
      "text/plain": [
       "      Name Qualification\n",
       "0  Clinton           Msc\n",
       "1   Daniel            MA\n",
       "2   Raheem           MCA\n",
       "3   Arnold           Phd"
      ]
     },
     "execution_count": 37,
     "metadata": {},
     "output_type": "execute_result"
    }
   ],
   "source": [
    "#Column Selectiom\n",
    "import pandas as pd\n",
    "\n",
    "data = {'Name':('Clinton','Daniel','Raheem','Arnold'),\n",
    "        'Age':(18,17,16,15),\n",
    "       'Adress':('Owerri','Ogun','Warri','Lagos'),\n",
    "       'Qualification':('Msc','MA','MCA','Phd')}\n",
    "\n",
    "df = pd.DataFrame(data)\n",
    "\n",
    "#Select Two Columns\n",
    "df[['Name','Qualification']]"
   ]
  },
  {
   "cell_type": "code",
   "execution_count": 40,
   "id": "71e3a97b",
   "metadata": {},
   "outputs": [
    {
     "data": {
      "text/plain": [
       "Name             Clinton\n",
       "Age                   18\n",
       "Adress            Owerri\n",
       "Qualification        Msc\n",
       "Name: 0, dtype: object"
      ]
     },
     "execution_count": 40,
     "metadata": {},
     "output_type": "execute_result"
    }
   ],
   "source": [
    "#Row Selectiom\n",
    "import pandas as pd\n",
    "\n",
    "data = {'Name':('Clinton','Daniel','Raheem','Arnold'),\n",
    "        'Age':(18,17,16,15),\n",
    "       'Adress':('Owerri','Ogun','Warri','Lagos'),\n",
    "       'Qualification':('Msc','MA','MCA','Phd')}\n",
    "\n",
    "df = pd.DataFrame(data)\n",
    "\n",
    "#Select First Row(0)\n",
    "df.iloc[0]"
   ]
  },
  {
   "cell_type": "code",
   "execution_count": 41,
   "id": "6218af19",
   "metadata": {},
   "outputs": [
    {
     "data": {
      "text/html": [
       "<div>\n",
       "<style scoped>\n",
       "    .dataframe tbody tr th:only-of-type {\n",
       "        vertical-align: middle;\n",
       "    }\n",
       "\n",
       "    .dataframe tbody tr th {\n",
       "        vertical-align: top;\n",
       "    }\n",
       "\n",
       "    .dataframe thead th {\n",
       "        text-align: right;\n",
       "    }\n",
       "</style>\n",
       "<table border=\"1\" class=\"dataframe\">\n",
       "  <thead>\n",
       "    <tr style=\"text-align: right;\">\n",
       "      <th></th>\n",
       "      <th>Employee Names</th>\n",
       "      <th>Years</th>\n",
       "      <th>Assesment Records</th>\n",
       "      <th>Points</th>\n",
       "      <th>Reward</th>\n",
       "    </tr>\n",
       "  </thead>\n",
       "  <tbody>\n",
       "    <tr>\n",
       "      <th>0</th>\n",
       "      <td>Matthew Ade</td>\n",
       "      <td>25</td>\n",
       "      <td>125.3</td>\n",
       "      <td>21</td>\n",
       "      <td>438.55</td>\n",
       "    </tr>\n",
       "    <tr>\n",
       "      <th>1</th>\n",
       "      <td>Angela Adebisi</td>\n",
       "      <td>15</td>\n",
       "      <td>77.9</td>\n",
       "      <td>14</td>\n",
       "      <td>181.77</td>\n",
       "    </tr>\n",
       "    <tr>\n",
       "      <th>2</th>\n",
       "      <td>Calistus Ndukwe</td>\n",
       "      <td>10</td>\n",
       "      <td>144.2</td>\n",
       "      <td>18</td>\n",
       "      <td>432.60</td>\n",
       "    </tr>\n",
       "    <tr>\n",
       "      <th>3</th>\n",
       "      <td>Martha Martins</td>\n",
       "      <td>9</td>\n",
       "      <td>81.5</td>\n",
       "      <td>25</td>\n",
       "      <td>339.58</td>\n",
       "    </tr>\n",
       "    <tr>\n",
       "      <th>4</th>\n",
       "      <td>Victor Sayola</td>\n",
       "      <td>18</td>\n",
       "      <td>77.8</td>\n",
       "      <td>33</td>\n",
       "      <td>427.90</td>\n",
       "    </tr>\n",
       "    <tr>\n",
       "      <th>5</th>\n",
       "      <td>Adamu Bello</td>\n",
       "      <td>23</td>\n",
       "      <td>99.5</td>\n",
       "      <td>24</td>\n",
       "      <td>398.00</td>\n",
       "    </tr>\n",
       "  </tbody>\n",
       "</table>\n",
       "</div>"
      ],
      "text/plain": [
       "    Employee Names  Years  Assesment Records  Points  Reward\n",
       "0      Matthew Ade     25              125.3      21  438.55\n",
       "1   Angela Adebisi     15               77.9      14  181.77\n",
       "2  Calistus Ndukwe     10              144.2      18  432.60\n",
       "3   Martha Martins      9               81.5      25  339.58\n",
       "4    Victor Sayola     18               77.8      33  427.90\n",
       "5      Adamu Bello     23               99.5      24  398.00"
      ]
     },
     "execution_count": 41,
     "metadata": {},
     "output_type": "execute_result"
    }
   ],
   "source": [
    "#Reading from a File\n",
    "import pandas as pd\n",
    "\n",
    "#Function to read a file(FILE HAS TO BE IN SAME LOCATION)\n",
    "data = pd.read_csv('employee_records.csv')\n",
    "\n",
    "data"
   ]
  },
  {
   "cell_type": "code",
   "execution_count": 46,
   "id": "6bb4ab2c",
   "metadata": {},
   "outputs": [
    {
     "data": {
      "text/plain": [
       "Employee Names       Matthew Ade\n",
       "Years                         25\n",
       "Assesment Records          125.3\n",
       "Points                        21\n",
       "Reward                    438.55\n",
       "Name: 0, dtype: object"
      ]
     },
     "execution_count": 46,
     "metadata": {},
     "output_type": "execute_result"
    }
   ],
   "source": [
    "#Selecting Rows from files\n",
    "import pandas as pd\n",
    "\n",
    "data = pd.read_csv('employee_records.csv')\n",
    "\n",
    "df = data.iloc[0]\n",
    "\n",
    "df"
   ]
  },
  {
   "cell_type": "code",
   "execution_count": 59,
   "id": "175d7a21",
   "metadata": {},
   "outputs": [
    {
     "data": {
      "text/html": [
       "<div>\n",
       "<style scoped>\n",
       "    .dataframe tbody tr th:only-of-type {\n",
       "        vertical-align: middle;\n",
       "    }\n",
       "\n",
       "    .dataframe tbody tr th {\n",
       "        vertical-align: top;\n",
       "    }\n",
       "\n",
       "    .dataframe thead th {\n",
       "        text-align: right;\n",
       "    }\n",
       "</style>\n",
       "<table border=\"1\" class=\"dataframe\">\n",
       "  <thead>\n",
       "    <tr style=\"text-align: right;\">\n",
       "      <th></th>\n",
       "      <th>Employee Names</th>\n",
       "      <th>Years</th>\n",
       "      <th>Assesment Records</th>\n",
       "      <th>Points</th>\n",
       "      <th>Reward</th>\n",
       "    </tr>\n",
       "  </thead>\n",
       "  <tbody>\n",
       "    <tr>\n",
       "      <th>0</th>\n",
       "      <td>Matthew Ade</td>\n",
       "      <td>25</td>\n",
       "      <td>125.3</td>\n",
       "      <td>21</td>\n",
       "      <td>438.55</td>\n",
       "    </tr>\n",
       "    <tr>\n",
       "      <th>1</th>\n",
       "      <td>Angela Adebisi</td>\n",
       "      <td>15</td>\n",
       "      <td>77.9</td>\n",
       "      <td>14</td>\n",
       "      <td>181.77</td>\n",
       "    </tr>\n",
       "    <tr>\n",
       "      <th>2</th>\n",
       "      <td>Calistus Ndukwe</td>\n",
       "      <td>10</td>\n",
       "      <td>144.2</td>\n",
       "      <td>18</td>\n",
       "      <td>432.60</td>\n",
       "    </tr>\n",
       "  </tbody>\n",
       "</table>\n",
       "</div>"
      ],
      "text/plain": [
       "    Employee Names  Years  Assesment Records  Points  Reward\n",
       "0      Matthew Ade     25              125.3      21  438.55\n",
       "1   Angela Adebisi     15               77.9      14  181.77\n",
       "2  Calistus Ndukwe     10              144.2      18  432.60"
      ]
     },
     "execution_count": 59,
     "metadata": {},
     "output_type": "execute_result"
    }
   ],
   "source": [
    "#Selecting Rows with Title Header\n",
    "import pandas as pd\n",
    "data = pd.read_csv('employee_records.csv')\n",
    "df = data.head(3)\n",
    "df"
   ]
  },
  {
   "cell_type": "code",
   "execution_count": 116,
   "id": "d0116b9b",
   "metadata": {},
   "outputs": [
    {
     "name": "stdout",
     "output_type": "stream",
     "text": [
      "0          Abdul\n",
      "1    Chukwuebuka\n",
      "2           Seyi\n",
      "3           Matt\n",
      "Name: name, dtype: object\n",
      "\n",
      "0       MBA\n",
      "1       BCA\n",
      "2    M.Tech\n",
      "3       MBA\n",
      "Name: degree, dtype: object\n",
      "\n",
      "0    90\n",
      "1    40\n",
      "2    80\n",
      "3    98\n",
      "Name: score, dtype: int64\n",
      "\n"
     ]
    },
    {
     "name": "stderr",
     "output_type": "stream",
     "text": [
      "C:\\Users\\K-WrecK\\AppData\\Local\\Temp\\ipykernel_31684\\629477348.py:11: FutureWarning: iteritems is deprecated and will be removed in a future version. Use .items instead.\n",
      "  for i, j in df.iteritems():\n"
     ]
    }
   ],
   "source": [
    "#Looping Over Rows and Columns\n",
    "import pandas as pd\n",
    "\n",
    "dict = {'name': ('Abdul', 'Chukwuebuka', 'Seyi', 'Matt'),\n",
    "        'degree': ('MBA', 'BCA', 'M.Tech', 'MBA'),\n",
    "         'score': (90,40,80,98)}\n",
    "\n",
    "#Creating a DataFrame from a Dictionary\n",
    "df = pd.DataFrame(dict)\n",
    "\n",
    "for i, j in df.iteritems():\n",
    "    print(j)\n",
    "    print()"
   ]
  },
  {
   "cell_type": "code",
   "execution_count": 95,
   "id": "fe7a68b7",
   "metadata": {},
   "outputs": [
    {
     "name": "stdout",
     "output_type": "stream",
     "text": [
      "Seyi\n",
      "M.Tech\n",
      "80\n"
     ]
    }
   ],
   "source": [
    "#Looping Over Columns\n",
    "import pandas as pd\n",
    "\n",
    "dict = {'name': ('Abdul', 'Chukwuebuka', 'Seyi', 'Matt'),\n",
    "        'degree': ('MBA', 'BCA', 'M.Tech', 'MBA'),\n",
    "         'score': (90,40,80,98)}\n",
    "\n",
    "df = pd.DataFrame(dict)\n",
    "\n",
    "columns = list(df)\n",
    "\n",
    "for i in columns:\n",
    "    print(df[i][2])\n"
   ]
  },
  {
   "cell_type": "code",
   "execution_count": 107,
   "id": "2e31f092",
   "metadata": {},
   "outputs": [
    {
     "name": "stdout",
     "output_type": "stream",
     "text": [
      "          name  degree  score\n",
      "0        Abdul     MBA     90\n",
      "1  Chukwuebuka     BCA     40\n",
      "2         Seyi  M.Tech     80\n",
      "3         Matt     MBA     98\n"
     ]
    }
   ],
   "source": [
    "#Writing the 'dict' out\n",
    "import pandas as pd\n",
    "\n",
    "dict = {'name': ('Abdul', 'Chukwuebuka', 'Seyi', 'Matt'),\n",
    "        'degree': ('MBA', 'BCA', 'M.Tech', 'MBA'),\n",
    "         'score': (90,40,80,98)}\n",
    "\n",
    "df = pd.DataFrame(dict)\n",
    "\n",
    "columns = list(df)\n",
    "\n",
    "print(df[['name', 'degree', 'score']])"
   ]
  },
  {
   "cell_type": "code",
   "execution_count": 109,
   "id": "a86200ac",
   "metadata": {},
   "outputs": [],
   "source": [
    "#Saving a DataFrame as CSV file\n",
    "import pandas as pd\n",
    "\n",
    "dict = {'name': ('Abdul', 'Chukwuebuka', 'Seyi', 'Matt'),\n",
    "        'degree': ('MBA', 'BCA', 'M.Tech', 'MBA'),\n",
    "         'score': (90,40,80,98)}\n",
    "\n",
    "df = pd.DataFrame(dict)\n",
    "\n",
    "#Saving it using function\n",
    "df.to_csv('record.csv')"
   ]
  },
  {
   "cell_type": "code",
   "execution_count": null,
   "id": "e984fed8",
   "metadata": {},
   "outputs": [],
   "source": []
  }
 ],
 "metadata": {
  "kernelspec": {
   "display_name": "Python 3 (ipykernel)",
   "language": "python",
   "name": "python3"
  },
  "language_info": {
   "codemirror_mode": {
    "name": "ipython",
    "version": 3
   },
   "file_extension": ".py",
   "mimetype": "text/x-python",
   "name": "python",
   "nbconvert_exporter": "python",
   "pygments_lexer": "ipython3",
   "version": "3.10.9"
  }
 },
 "nbformat": 4,
 "nbformat_minor": 5
}
