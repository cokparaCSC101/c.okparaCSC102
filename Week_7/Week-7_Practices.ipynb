{
 "cells": [
  {
   "cell_type": "code",
   "execution_count": 1,
   "id": "649677bf",
   "metadata": {},
   "outputs": [
    {
     "name": "stdout",
     "output_type": "stream",
     "text": [
      "I'm first call to user defined function!\n",
      "Again second call to the sam efunction\n"
     ]
    }
   ],
   "source": [
    "#'Printme' starts acting as the normal 'print' function because we defined it\n",
    "# The code starts with a colon(:)\n",
    "#'return' is used to close the process\n",
    "def printme( str):\n",
    "    print( str );\n",
    "    return\n",
    "\n",
    "printme(\"I'm first call to user defined function!\");\n",
    "printme(\"Again second call to the sam efunction\");"
   ]
  },
  {
   "cell_type": "code",
   "execution_count": 3,
   "id": "7228f576",
   "metadata": {},
   "outputs": [
    {
     "name": "stdout",
     "output_type": "stream",
     "text": [
      "Values inside the function [10, 20, 30, [1, 2, 3, 4]]\n",
      "Values outsidde the function [10, 20, 30, [1, 2, 3, 4]]\n"
     ]
    }
   ],
   "source": [
    "def changeme( mylist ):\n",
    "    # .append is used to add an extra set of numbers\n",
    "    mylist.append([1,2,3,4])\n",
    "    print (\"Values inside the function\", mylist);\n",
    "    return\n",
    "mylist = [10,20,30]\n",
    "changeme( mylist )\n",
    "print(\"Values outside the function\",mylist)\n"
   ]
  },
  {
   "cell_type": "code",
   "execution_count": 10,
   "id": "13c214c2",
   "metadata": {},
   "outputs": [
    {
     "name": "stdout",
     "output_type": "stream",
     "text": [
      "Values inside Function [1, 2, 3, 4]\n",
      "Values outside function [10, 20, 20, 40]\n"
     ]
    }
   ],
   "source": [
    "def changeme( mylist ):\n",
    "    mylist = [1,2,3,4];\n",
    "    print('Values inside Function',mylist);\n",
    "    return\n",
    "\n",
    "mylist = [10,20,20,40];\n",
    "changeme(mylist);\n",
    "print('Values outside function',mylist)"
   ]
  },
  {
   "cell_type": "code",
   "execution_count": 18,
   "id": "cd367257",
   "metadata": {},
   "outputs": [
    {
     "name": "stdout",
     "output_type": "stream",
     "text": [
      "My String\n"
     ]
    }
   ],
   "source": [
    "def printme( str ):\n",
    "    print( str );\n",
    "    return\n",
    "printme(str = \"My String\")"
   ]
  },
  {
   "cell_type": "code",
   "execution_count": 25,
   "id": "5a5ed2ac",
   "metadata": {},
   "outputs": [
    {
     "name": "stdout",
     "output_type": "stream",
     "text": [
      "Name: Clinton\n",
      "Age: 18\n"
     ]
    }
   ],
   "source": [
    "#Keyword Argument\n",
    "def printinfo(name, age):\n",
    "    print('Name:', name);\n",
    "    print('Age:', age);\n",
    "    return\n",
    "#Remember to define a variable with a value when using it a function\n",
    "name = 'Clinton'\n",
    "age = 18\n",
    "printinfo(name, age);"
   ]
  },
  {
   "cell_type": "code",
   "execution_count": 37,
   "id": "72069a3f",
   "metadata": {},
   "outputs": [
    {
     "name": "stdout",
     "output_type": "stream",
     "text": [
      "name: Sean\n",
      "age: 90\n",
      "name: Sean\n",
      "age: 15\n"
     ]
    }
   ],
   "source": [
    "#Default Argument\n",
    "#Default 'age' is set to 15\n",
    "def printinfo(name, age = 15):\n",
    "    print('name:', name);\n",
    "    print('age:', age);\n",
    "    return;\n",
    "\n",
    "printinfo(name = 'Sean', age = 90)\n",
    "printinfo(name = 'Sean')\n",
    "#Program assumes default age as 15 since it isn't stated"
   ]
  },
  {
   "cell_type": "code",
   "execution_count": 51,
   "id": "18a8551a",
   "metadata": {},
   "outputs": [],
   "source": [
    "def printinfo( arg1, *vartuple ):\n",
    "    print ('Output is:')\n",
    "    print (arg1)\n",
    "    for var in vartuple:\n",
    "        print (var)\n",
    "        return;\n",
    "\n",
    "    printinfo( 10 );\n",
    "    printinfo( 70, 60, 50 );"
   ]
  },
  {
   "cell_type": "code",
   "execution_count": 46,
   "id": "1c61819b",
   "metadata": {},
   "outputs": [
    {
     "name": "stdout",
     "output_type": "stream",
     "text": [
      "Inside the function, local total : 30\n",
      "Outside the function, global total: 100\n"
     ]
    }
   ],
   "source": [
    "#Global variablels vs Local Variables\n",
    "total = 100; #This is a a global variable.\n",
    "def sum(arg1, arg2):\n",
    "    total = arg1 + arg2;\n",
    "    print('Inside the function, local total :', total);\n",
    "    return\n",
    "\n",
    "sum(10,20);\n",
    "print('Outside the function, global total:', total);"
   ]
  },
  {
   "cell_type": "code",
   "execution_count": 50,
   "id": "22adb50f",
   "metadata": {},
   "outputs": [
    {
     "name": "stdout",
     "output_type": "stream",
     "text": [
      "Lawal Edward Tolu Tobe Clinton\n",
      "Lawal\n"
     ]
    }
   ],
   "source": [
    "def swap(x,y):\n",
    "    global a;\n",
    "    a = 'Lawal'\n",
    "    b = 'Chris'\n",
    "    b = 'Edward'\n",
    "    x,y = y,x\n",
    "    c = 'Tolu'\n",
    "    print(a,b,c,x,y)\n",
    "    return\n",
    "a = 'Mary'\n",
    "swap('Clinton', 'Tobe')\n",
    "print(a)\n"
   ]
  },
  {
   "cell_type": "code",
   "execution_count": null,
   "id": "4db12146",
   "metadata": {},
   "outputs": [],
   "source": []
  }
 ],
 "metadata": {
  "kernelspec": {
   "display_name": "Python 3 (ipykernel)",
   "language": "python",
   "name": "python3"
  },
  "language_info": {
   "codemirror_mode": {
    "name": "ipython",
    "version": 3
   },
   "file_extension": ".py",
   "mimetype": "text/x-python",
   "name": "python",
   "nbconvert_exporter": "python",
   "pygments_lexer": "ipython3",
   "version": "3.10.9"
  }
 },
 "nbformat": 4,
 "nbformat_minor": 5
}
