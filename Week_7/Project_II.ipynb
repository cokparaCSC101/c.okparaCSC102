{
 "cells": [
  {
   "cell_type": "code",
   "execution_count": 3,
   "id": "8728b115",
   "metadata": {},
   "outputs": [
    {
     "name": "stdout",
     "output_type": "stream",
     "text": [
      "What does your package weigh: 6.8\n",
      "Where is the package to go: fr\n",
      "Sorry, We can't help you\n"
     ]
    }
   ],
   "source": [
    "Weight = float(input(\"What does your package weigh: \"))\n",
    "Location = input(\"Where is the package to go: \")\n",
    "Weight = int(Weight)\n",
    "a = 'Ibeju-Lekki Community'\n",
    "b = 'Epe'\n",
    "\n",
    "if ((Weight) >= 10.00) and (Location == a):\n",
    "    print(\"You are to pay N2000\")\n",
    "elif ((Weight) < 10.00) and (Location == a):\n",
    "    print(\"You are to pay N1500\")\n",
    "elif ((Weight) >= 10.00) and (Location == b):\n",
    "    print('You are to pay N5000')\n",
    "elif ((Weight) < 10.00) and (Location == b):\n",
    "    print('You are to pay N4000')\n",
    "else:\n",
    "    print(\"Sorry, We can't help you\")\n"
   ]
  },
  {
   "cell_type": "code",
   "execution_count": null,
   "id": "c1a1d96d",
   "metadata": {},
   "outputs": [],
   "source": []
  }
 ],
 "metadata": {
  "kernelspec": {
   "display_name": "Python 3 (ipykernel)",
   "language": "python",
   "name": "python3"
  },
  "language_info": {
   "codemirror_mode": {
    "name": "ipython",
    "version": 3
   },
   "file_extension": ".py",
   "mimetype": "text/x-python",
   "name": "python",
   "nbconvert_exporter": "python",
   "pygments_lexer": "ipython3",
   "version": "3.10.9"
  }
 },
 "nbformat": 4,
 "nbformat_minor": 5
}
