{
 "cells": [
  {
   "cell_type": "code",
   "execution_count": 3,
   "id": "2166fd33",
   "metadata": {},
   "outputs": [],
   "source": [
    "class Parrot():\n",
    "    pass"
   ]
  },
  {
   "cell_type": "code",
   "execution_count": 4,
   "id": "30270d01",
   "metadata": {},
   "outputs": [
    {
     "name": "stdout",
     "output_type": "stream",
     "text": [
      "mammal\n",
      "I'm a mammal\n",
      "I'm a dog\n"
     ]
    }
   ],
   "source": [
    "class Dog():\n",
    "    attr1 = 'mammal'\n",
    "    attr2 = 'dog'\n",
    "    \n",
    "    def fun(self):\n",
    "        print(\"I'm a\", self.attr1)\n",
    "        print(\"I'm a\", self.attr2)\n",
    "        \n",
    "Rodger = Dog()\n",
    "\n",
    "print(Rodger.attr1)\n",
    "Rodger.fun()\n"
   ]
  },
  {
   "cell_type": "code",
   "execution_count": 7,
   "id": "cda6eae1",
   "metadata": {},
   "outputs": [
    {
     "name": "stdout",
     "output_type": "stream",
     "text": [
      "Address of self = 2223468903152\n",
      "Address of class object = 2223468903152\n",
      "the memory location that uses \"id\" to store your value is: 2223474034992\n"
     ]
    }
   ],
   "source": [
    "class check:\n",
    "    def __init__(self):\n",
    "        print('Address of self =',id(self))\n",
    "        \n",
    "obj = check()\n",
    "Clinton = 'The Absolute'\n",
    "print('Address of class object =',id(obj))\n",
    "print('the memory location that uses \"id\" to store your value is:',id(Clinton))"
   ]
  },
  {
   "cell_type": "code",
   "execution_count": 8,
   "id": "d7dfb4bb",
   "metadata": {},
   "outputs": [
    {
     "name": "stdout",
     "output_type": "stream",
     "text": [
      "Model is Toyota Corolla\n",
      "Color is blue\n",
      "Model is Kia Cerato\n",
      "Color is green\n"
     ]
    }
   ],
   "source": [
    "class car():\n",
    "    def __init__(self, model, color):\n",
    "        self.model = model\n",
    "        self.color = color\n",
    "    def show(self):\n",
    "        print('Model is', self.model)\n",
    "        print('Color is', self.color)\n",
    "\n",
    "toyota = car('Toyota Corolla', 'blue')\n",
    "kia = car('Kia Cerato', 'green')\n",
    "\n",
    "toyota.show()\n",
    "kia.show()"
   ]
  },
  {
   "cell_type": "code",
   "execution_count": 3,
   "id": "c57e8e59",
   "metadata": {},
   "outputs": [
    {
     "name": "stdout",
     "output_type": "stream",
     "text": [
      "This is a constructor\n",
      "Worked fine\n"
     ]
    }
   ],
   "source": [
    "class check:\n",
    "    def __init__(self):\n",
    "        print(\"This is a constructor\")\n",
    "        \n",
    "object = check()\n",
    "print(\"Worked fine\")"
   ]
  },
  {
   "cell_type": "code",
   "execution_count": 10,
   "id": "ef29fa47",
   "metadata": {},
   "outputs": [
    {
     "name": "stdout",
     "output_type": "stream",
     "text": [
      "We have used another parameter In place of self\n"
     ]
    }
   ],
   "source": [
    "class this_is_class:\n",
    "    def __init__(in_place_of_self):\n",
    "        print(\"We have used another parameter In place of self\")\n",
    "\n",
    "object = this_is_class()        "
   ]
  },
  {
   "cell_type": "code",
   "execution_count": 29,
   "id": "941454e1",
   "metadata": {},
   "outputs": [
    {
     "name": "stdout",
     "output_type": "stream",
     "text": [
      "Hello my name is Frank\n"
     ]
    }
   ],
   "source": [
    "class Person:\n",
    "    def __init__(self,name):\n",
    "        self.name = name\n",
    "        \n",
    "    def say_hi(self):\n",
    "        print('Hello my name is', self.name)\n",
    "\n",
    "a = Person('Clinton')\n",
    "a.__init__('Frank')\n",
    "a.say_hi()"
   ]
  },
  {
   "cell_type": "code",
   "execution_count": 41,
   "id": "739a78a5",
   "metadata": {},
   "outputs": [
    {
     "name": "stdout",
     "output_type": "stream",
     "text": [
      "Hello, my name is Eniabasi\n",
      "Hello, my name is Leela\n",
      "Hello, my name is Divine\n"
     ]
    }
   ],
   "source": [
    "class Person:\n",
    "    def __init__(self,name):\n",
    "        self.name = name\n",
    "    \n",
    "    def say_hi(self):\n",
    "        print('Hello, my name is', self.name)\n",
    "\n",
    "\n",
    "p1 = Person('Eniabasi')\n",
    "p2 = Person('Leela')\n",
    "p3 = Person('Divine')\n",
    "\n",
    "p1.say_hi()\n",
    "p2.say_hi()\n",
    "p3.say_hi()"
   ]
  },
  {
   "cell_type": "code",
   "execution_count": 47,
   "id": "7c828059",
   "metadata": {},
   "outputs": [
    {
     "name": "stdout",
     "output_type": "stream",
     "text": [
      "CSC 102 - Introduction to Problem Solving\n"
     ]
    }
   ],
   "source": [
    "#Default Constructor\n",
    "class Program:\n",
    "    def __init__(self):\n",
    "        course = 'CSC 102 - Introduction to Problem Solving'\n",
    "        self.course = course\n",
    "    def print_course(self):\n",
    "        print(self.course)\n",
    "\n",
    "obj = Program()\n",
    "obj.print_course()"
   ]
  },
  {
   "cell_type": "code",
   "execution_count": 72,
   "id": "218aeb4d",
   "metadata": {
    "scrolled": false
   },
   "outputs": [
    {
     "name": "stdout",
     "output_type": "stream",
     "text": [
      "Enter First Number:1\n",
      "Enter Second Number:2\n",
      "First Number = 1\n",
      "Second Number = 2\n",
      "Addition of the Two Numbers = 3\n"
     ]
    }
   ],
   "source": [
    "#Parametrized Constructor\n",
    "class Addition:\n",
    "    first = 0\n",
    "    second = 0\n",
    "    answer = 0\n",
    "    \n",
    "    def __init__(self, first, second):\n",
    "        self.first = first\n",
    "        self.second = second\n",
    "        \n",
    "    def display(self):\n",
    "        print(\"First Number = \" +str(self.first))\n",
    "        print(\"Second Number = \"  +str(self.second))\n",
    "        print(\"Addition of the Two Numbers = \" +str(self.answer))\n",
    "    \n",
    "    def calculate(self):\n",
    "        self.answer = self.first + self.second\n",
    "        \n",
    "\n",
    "        \n",
    "num1 = int(input(\"Enter First Number:\"))\n",
    "num2 = int(input(\"Enter Second Number:\"))\n",
    "obj  = Addition(num1,num2)\n",
    "obj.calculate()\n",
    "obj.display()"
   ]
  },
  {
   "cell_type": "code",
   "execution_count": 79,
   "id": "9e3920d3",
   "metadata": {},
   "outputs": [
    {
     "name": "stdout",
     "output_type": "stream",
     "text": [
      "Oscar is a mammal\n",
      "Peaches is  a Bird\n",
      "My name is oscar\n",
      "My name is Peaches\n"
     ]
    }
   ],
   "source": [
    "class Dogs:\n",
    "    attr1 = \"mammal\"\n",
    "    attr2 = 'Bird'\n",
    "    \n",
    "    def __init__(self, name):\n",
    "        self.name = name\n",
    "        \n",
    "dog1 = Dogs(\"oscar\")\n",
    "dog2 = Dogs(\"Peaches\")\n",
    "\n",
    "print(\"Oscar is a {}\".format(dog1.attr1))\n",
    "print(\"Peaches is  a {}\".format(dog2.attr2))\n",
    "\n",
    "print(\"My name is {}\".format(dog1.name))\n",
    "print(\"My name is {}\".format(dog2.name))"
   ]
  },
  {
   "cell_type": "code",
   "execution_count": 80,
   "id": "778219f9",
   "metadata": {},
   "outputs": [
    {
     "name": "stdout",
     "output_type": "stream",
     "text": [
      "Enter the name of the first student: Clinton\n",
      "Enter the name of the Second Student: Mary\n",
      "My name is Clinton\n",
      "I'm studying Computer Science\n",
      "My name is Mary\n",
      "I'm studying Computer Science\n"
     ]
    }
   ],
   "source": [
    "class SST:\n",
    "    prog1 = 'Computer Science'\n",
    "    \n",
    "    def __init__(self, name):\n",
    "        self.name = name\n",
    "        \n",
    "    def speak(self):\n",
    "        print('My name is {}'.format(self.name))\n",
    "        print(\"I'm studying {}\".format(stud1.prog1))\n",
    "        \n",
    "stud1 = SST(input(\"Enter the name of the first student: \"))\n",
    "stud2 = SST(input(\"Enter the name of the Second Student: \"))\n",
    "\n",
    "stud1.speak()\n",
    "stud2.speak()"
   ]
  },
  {
   "cell_type": "code",
   "execution_count": 1,
   "id": "4a389413",
   "metadata": {},
   "outputs": [
    {
     "name": "stdout",
     "output_type": "stream",
     "text": [
      "Rodger Details:\n",
      "Rodger is a dog\n",
      "Breed:  Pug\n",
      "Color:  Brown\n",
      "\n",
      "Buzo Details:\n",
      "Buzo is a dog\n",
      "Breed:  Bulldog\n",
      "Color:  Black\n",
      "\n",
      "Accessing class variable using class name\n",
      "dog\n"
     ]
    }
   ],
   "source": [
    "class Dog:\n",
    "    \n",
    "    #Class Variable(a variable inside the class)\n",
    "    animal = 'dog'\n",
    "    \n",
    "    def __init__(self,breed,color):\n",
    "        \n",
    "        #Instance variable(a variable inside the constructor or method)\n",
    "        self.breed = breed\n",
    "        self.color = color\n",
    "\n",
    "\n",
    "Rodger = Dog(\"Pug\",\"Brown\")\n",
    "Buzo = Dog(\"Bulldog\", \"Black\")\n",
    "\n",
    "print('Rodger Details:')\n",
    "print(\"Rodger is a\", Rodger.animal)\n",
    "print('Breed: ', Rodger.breed)\n",
    "print('Color: ', Rodger.color)\n",
    "\n",
    "print('\\nBuzo Details:')\n",
    "print(\"Buzo is a\",Buzo.animal)\n",
    "print('Breed: ', Buzo.breed)\n",
    "print('Color: ', Buzo.color)\n",
    "\n",
    "print(\"\\nAccessing class variable using class name\")\n",
    "print(Dog.animal)\n",
    "\n",
    "\n",
    "\n"
   ]
  },
  {
   "cell_type": "code",
   "execution_count": 6,
   "id": "18d7a105",
   "metadata": {},
   "outputs": [
    {
     "name": "stdout",
     "output_type": "stream",
     "text": [
      "red\n"
     ]
    }
   ],
   "source": [
    "class Dog:\n",
    "    animal = 'dog'\n",
    "    \n",
    "    def __init__(self, breed):\n",
    "        self.breed = breed\n",
    "        \n",
    "    def setColor(self,color):\n",
    "        self.color = color\n",
    "        \n",
    "    def getColor(self):\n",
    "        return self.color\n",
    "    \n",
    "Rodger = Dog('pug')\n",
    "Rodger.setColor('red')\n",
    "print(Rodger.getColor())"
   ]
  },
  {
   "cell_type": "code",
   "execution_count": null,
   "id": "d6a1e1d8",
   "metadata": {},
   "outputs": [],
   "source": []
  }
 ],
 "metadata": {
  "kernelspec": {
   "display_name": "Python 3 (ipykernel)",
   "language": "python",
   "name": "python3"
  },
  "language_info": {
   "codemirror_mode": {
    "name": "ipython",
    "version": 3
   },
   "file_extension": ".py",
   "mimetype": "text/x-python",
   "name": "python",
   "nbconvert_exporter": "python",
   "pygments_lexer": "ipython3",
   "version": "3.10.9"
  }
 },
 "nbformat": 4,
 "nbformat_minor": 5
}
