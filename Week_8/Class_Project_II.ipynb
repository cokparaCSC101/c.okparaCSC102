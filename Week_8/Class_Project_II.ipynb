{
 "cells": [
  {
   "cell_type": "code",
   "execution_count": 15,
   "id": "86a7eaa9",
   "metadata": {
    "scrolled": true
   },
   "outputs": [
    {
     "name": "stdout",
     "output_type": "stream",
     "text": [
      "What does your package weigh: 10\n",
      "Where is the package to go: PAU\n",
      "You are to pay N2000\n"
     ]
    }
   ],
   "source": [
    "class delivery:\n",
    "    def service(self):\n",
    "        if ((Weight) >= 10.00) and (Location == a):\n",
    "            print(\"You are to pay N2000\")\n",
    "        elif ((Weight) < 10.00) and (Location == a):\n",
    "            print(\"You are to pay N1500\")\n",
    "        elif ((Weight) >= 10.00) and (Location == b):\n",
    "            print('You are to pay N5000')\n",
    "        elif ((Weight) < 10.00) and (Location == b):\n",
    "            print('You are to pay N4000')\n",
    "        else:\n",
    "            print(\"Sorry, We can't help you\")\n",
    "        \n",
    "        \n",
    "        \n",
    "Weight = float(input(\"What does your package weigh: \"))\n",
    "Location = input(\"Where is the package to go: \")\n",
    "Weight = int(Weight)\n",
    "a = 'PAU'\n",
    "b = 'Epe'\n",
    "Customer = delivery()\n",
    "Customer.service()"
   ]
  },
  {
   "cell_type": "code",
   "execution_count": null,
   "id": "b61cca0b",
   "metadata": {},
   "outputs": [],
   "source": []
  }
 ],
 "metadata": {
  "kernelspec": {
   "display_name": "Python 3 (ipykernel)",
   "language": "python",
   "name": "python3"
  },
  "language_info": {
   "codemirror_mode": {
    "name": "ipython",
    "version": 3
   },
   "file_extension": ".py",
   "mimetype": "text/x-python",
   "name": "python",
   "nbconvert_exporter": "python",
   "pygments_lexer": "ipython3",
   "version": "3.10.9"
  }
 },
 "nbformat": 4,
 "nbformat_minor": 5
}
