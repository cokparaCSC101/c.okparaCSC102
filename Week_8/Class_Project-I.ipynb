{
 "cells": [
  {
   "cell_type": "code",
   "execution_count": 29,
   "id": "adc3f903",
   "metadata": {},
   "outputs": [
    {
     "name": "stdout",
     "output_type": "stream",
     "text": [
      "Enter your Surname(Write only first letter in CAPS)Evans\n",
      "Enter your Firstname(Write only first letter in CAPS)Mary\n",
      "Attendance Taken.\n",
      "Customer Service\n"
     ]
    }
   ],
   "source": [
    "import pandas as pd\n",
    "\n",
    "Employees =  [\"Mary Evans\", \"Eyo Ishan\", \"Durojaiye Dare\", \"Adams Ali\", \"Andrew Ugwu\", \"Stella Mankinde\", \"Jane Akibo\", \"Ago James\", \"Michell Taiwo\", \"Abraham Jones\" , \"Nicole Anide\", \"Kosi Korso\", \"Adele Martins\", \"Emmanuel Ojo\", \"Ajayi Fatima\"]\n",
    "\n",
    "#Project Code to check if a user is an employee and randomly assign a task to them using the random.randint() function\n",
    "class Employee():\n",
    "    def check_employee(self):\n",
    "        if Fullname in Employees:\n",
    "            def take_attendance():\n",
    "                print('Attendance Taken.')\n",
    "            def assign_task():\n",
    "                import random\n",
    "                Tasks = (\"Loading\", \"Transporting\", \"Reveiwing Orders\", \"Customer Service\", \"Delivering Items\")\n",
    "                index = random.randint(0,4)\n",
    "                print(Tasks[index])\n",
    "            take_attendance()\n",
    "            assign_task()\n",
    "        else:\n",
    "            def refuse_access():\n",
    "                print('Access Denied')\n",
    "            refuse_access()    \n",
    "        \n",
    "Surname = input(\"Enter your Surname(Write only first letter in CAPS)\")\n",
    "Firstname = input(\"Enter your Firstname(Write only first letter in CAPS)\") \n",
    "Fullname = Firstname + ' ' + Surname\n",
    "man = Employee()\n",
    "man.check_employee()\n",
    "\n"
   ]
  },
  {
   "cell_type": "code",
   "execution_count": null,
   "id": "72fb43a4",
   "metadata": {},
   "outputs": [],
   "source": []
  }
 ],
 "metadata": {
  "kernelspec": {
   "display_name": "Python 3 (ipykernel)",
   "language": "python",
   "name": "python3"
  },
  "language_info": {
   "codemirror_mode": {
    "name": "ipython",
    "version": 3
   },
   "file_extension": ".py",
   "mimetype": "text/x-python",
   "name": "python",
   "nbconvert_exporter": "python",
   "pygments_lexer": "ipython3",
   "version": "3.10.9"
  }
 },
 "nbformat": 4,
 "nbformat_minor": 5
}
