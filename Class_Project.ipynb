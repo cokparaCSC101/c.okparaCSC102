{
 "cells": [
  {
   "cell_type": "code",
   "execution_count": 3,
   "id": "c2b9ea68",
   "metadata": {},
   "outputs": [
    {
     "name": "stdout",
     "output_type": "stream",
     "text": [
      "Enter Principal50\n",
      "Enter Rate5\n",
      "Enter Time2\n",
      "5.0\n"
     ]
    }
   ],
   "source": [
    "#Project to design a program to calculate Simple Interest\n",
    "P = float(input('Enter Principal'))\n",
    "R = float(input('Enter Rate'))\n",
    "T = float(input('Enter Time'))\n",
    "\n",
    "I = (P*T*R)/100\n",
    "\n",
    "print(I)"
   ]
  },
  {
   "cell_type": "code",
   "execution_count": 6,
   "id": "e2e4613d",
   "metadata": {},
   "outputs": [
    {
     "name": "stdout",
     "output_type": "stream",
     "text": [
      "Enter Principal500\n",
      "Enter Rate12\n",
      "Enter Total Time2\n",
      "Enter number of times interest is to be compounded each year1\n",
      "127.20000000000005\n"
     ]
    }
   ],
   "source": [
    "#Project to design a program to calculate Compound Interest\n",
    "P = float(input('Enter Principal: '))\n",
    "R = float(input('Enter Rate: '))\n",
    "T = float(input('Enter Time Taken: '))\n",
    "n = float(input('Enter number of times interest is to be compounded each year: '))\n",
    "r = R/100\n",
    "A = P*((1+(r/n))**(n*T))\n",
    "I = A-P\n",
    "print(I)"
   ]
  },
  {
   "cell_type": "code",
   "execution_count": 4,
   "id": "b44f0fc1",
   "metadata": {},
   "outputs": [
    {
     "name": "stdout",
     "output_type": "stream",
     "text": [
      "Enter Regular Payment: 2000\n",
      "Enter Rate: 9\n",
      "Enter Time Taken: 10\n",
      "Enter number of times interest is to be compounded each year: 1\n",
      "30385.85943538043\n"
     ]
    }
   ],
   "source": [
    "#Project to design a program to calculate someone's annuity plan\n",
    "C = float(input('Enter Regular Payment: '))\n",
    "R = float(input('Enter Rate: '))\n",
    "T = float(input('Enter Time Taken: '))\n",
    "n = float(input('Enter number of times interest is to be compounded each year: '))\n",
    "\n",
    "r = R/100\n",
    "\n",
    "Annuity = C*((((1+(r/n))**(n*T))-1)/(r/n))\n",
    "print(Annuity)"
   ]
  },
  {
   "cell_type": "code",
   "execution_count": null,
   "id": "7f97d1c9",
   "metadata": {},
   "outputs": [],
   "source": []
  }
 ],
 "metadata": {
  "kernelspec": {
   "display_name": "Python 3 (ipykernel)",
   "language": "python",
   "name": "python3"
  },
  "language_info": {
   "codemirror_mode": {
    "name": "ipython",
    "version": 3
   },
   "file_extension": ".py",
   "mimetype": "text/x-python",
   "name": "python",
   "nbconvert_exporter": "python",
   "pygments_lexer": "ipython3",
   "version": "3.10.9"
  }
 },
 "nbformat": 4,
 "nbformat_minor": 5
}
